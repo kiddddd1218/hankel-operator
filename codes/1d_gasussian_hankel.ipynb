{
 "cells": [
  {
   "cell_type": "code",
   "execution_count": 1,
   "metadata": {},
   "outputs": [],
   "source": [
    "import numpy as np\n",
    "import matplotlib.pyplot as plt\n",
    "from numpy.polynomial import Polynomial as P\n",
    "from numpy.polynomial import Chebyshev as C\n",
    "from numpy.polynomial import Legendre as L"
   ]
  },
  {
   "cell_type": "code",
   "execution_count": 2,
   "metadata": {},
   "outputs": [],
   "source": [
    "inte_p = lambda p,a,b: p.integ()(b) - p.integ()(a)\n",
    "def Gaussian_1D_hankel(n):\n",
    "    # moments = np.array([inte_p(C.basis(r) , -1 , 1) for r in range(2 * n)])\n",
    "\n",
    "    moments = np.array([(1**(r+1) - (-1)**(r+1)) / (r+1) for r in range(2 * n)])\n",
    "\n",
    "    # moments = np.array([inte_p(L.basis(r) , -1 , 1) for r in range(2 * n)])\n",
    "\n",
    "    M = np.array([moments[i:i+n] for i in range(n)])\n",
    "    b = moments[n:]\n",
    "    coef = np.linalg.solve(M, b)\n",
    "    p = P(np.insert(-coef , n , 1))\n",
    "    nodes = p.roots()\n",
    "    V = np.array([nodes**i for i in range(n)])\n",
    "    weights = np.linalg.solve(V , moments[:n])\n",
    "    return nodes,weights"
   ]
  },
  {
   "cell_type": "code",
   "execution_count": 3,
   "metadata": {},
   "outputs": [
    {
     "data": {
      "text/plain": [
       "(array([-0.93246951, -0.66120939, -0.23861919,  0.23861919,  0.66120939,\n",
       "         0.93246951]),\n",
       " array([-0.93246951, -0.66120939, -0.23861919,  0.23861919,  0.66120939,\n",
       "         0.93246951]),\n",
       " array([0.17132449, 0.36076157, 0.46791393, 0.46791393, 0.36076157,\n",
       "        0.17132449]),\n",
       " array([0.17132449, 0.36076157, 0.46791393, 0.46791393, 0.36076157,\n",
       "        0.17132449]))"
      ]
     },
     "execution_count": 3,
     "metadata": {},
     "output_type": "execute_result"
    }
   ],
   "source": [
    "n = 6\n",
    "real_n , real_w = np.polynomial.legendre.leggauss(n)\n",
    "n , w = Gaussian_1D_hankel(n)\n",
    "real_n , n , real_w , w\n"
   ]
  },
  {
   "cell_type": "code",
   "execution_count": 4,
   "metadata": {},
   "outputs": [
    {
     "data": {
      "text/plain": [
       "(2.4979991992969732, 2.4979991993593593)"
      ]
     },
     "execution_count": 4,
     "metadata": {},
     "output_type": "execute_result"
    }
   ],
   "source": [
    "n = 13\n",
    "real_n , real_w = np.polynomial.legendre.leggauss(n)\n",
    "n , w = Gaussian_1D_hankel(n)\n",
    "np.linalg.norm(n.real),np.linalg.norm(real_n)"
   ]
  },
  {
   "cell_type": "code",
   "execution_count": 5,
   "metadata": {},
   "outputs": [],
   "source": [
    "def is_psd_for_sym(A):\n",
    "    m , n = A.shape\n",
    "    if m == 1 or n == 1:\n",
    "        return True,'0'\n",
    "    # Determine if it's symmetry\n",
    "\n",
    "    # Case 1\n",
    "    if A[0,0] < 0:\n",
    "        return False,'1'\n",
    "    \n",
    "    # Case 2\n",
    "    elif A[0,0] == 0:\n",
    "        for j in range(n):\n",
    "            if A[0,j] != 0:\n",
    "                return False,'2'\n",
    "        return is_psd_for_sym(A[1: , 1:])[0],'2'\n",
    "    \n",
    "    # Case 3\n",
    "    elif A[0,0] > 0:\n",
    "        B = A.copy()\n",
    "        for i in range(1,m):\n",
    "            B[i] -= A[i,0] / A[0,0] * A[1]\n",
    "        return is_psd_for_sym(B[1:,1:])[0],'3'\n",
    "    \n",
    "def is_psd_eig(M, atol=1e-12):\n",
    "    \"\"\"\n",
    "    Returns True if all eigenvalues of M are >= -atol.\n",
    "    atol is a numerical tolerance to allow for floating-point inaccuracies.\n",
    "    \"\"\"\n",
    "    w, _ = np.linalg.eigh(M)  # Eigenvalues in ascending order\n",
    "    return np.all(w >= -atol)    \n",
    "    \n"
   ]
  }
 ],
 "metadata": {
  "kernelspec": {
   "display_name": "Python 3",
   "language": "python",
   "name": "python3"
  },
  "language_info": {
   "codemirror_mode": {
    "name": "ipython",
    "version": 3
   },
   "file_extension": ".py",
   "mimetype": "text/x-python",
   "name": "python",
   "nbconvert_exporter": "python",
   "pygments_lexer": "ipython3",
   "version": "3.11.0"
  }
 },
 "nbformat": 4,
 "nbformat_minor": 2
}
