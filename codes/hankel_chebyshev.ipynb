{
 "cells": [
  {
   "cell_type": "code",
   "execution_count": 9,
   "metadata": {},
   "outputs": [],
   "source": [
    "import numpy as np\n",
    "from numpy.polynomial import Polynomial as P\n",
    "from numpy.polynomial import chebyshev as c\n",
    "from numpy.polynomial import Chebyshev as C\n",
    "from numpy.polynomial import Legendre as L\n",
    "from math import factorial as fac"
   ]
  },
  {
   "cell_type": "code",
   "execution_count": null,
   "metadata": {},
   "outputs": [],
   "source": [
    "inte_p = lambda p,a,b: p.integ()(b) - p.integ()(a)\n",
    "def Gaussian_1D_hankel(n):\n",
    "    \n",
    "\n",
    "    # moments = np.array([(1**(r+1) - (-1)**(r+1)) / (r+1) for r in range(2 * n)])\n",
    "    # moments = np.array([inte_p(L.basis(r) , -1 , 1) for r in range(2 * n)])\n",
    "    # part_1 = lambda k: np.array([(-1)**(s + n) * fac(k) * 2 / (fac(s) * fac(k - s) * (s + n + 1))  for s in range(k)]).sum()\n",
    "    # part_2 = lambda m: np.array([(-2)**k * fac(m + k - 1) * part_1(k) / (fac(m - k) * (fac(2 * k))) for k in range(m)]).sum()\n",
    "    # b = np.array([part_2(m) for m in range(n)])\n",
    "    Lam = lambda n: ((-1)**n + 1)/(1 - n**2) if n != 1 else 0\n",
    "    moments = np.array([Lam(r)  for r in range(2 * n)])\n",
    "    # I = np.eye(n)\n",
    "    # _I = np.fliplr(I)\n",
    "    # M1 = np.array([[(moments[i+j] )  for i in range(n)] for j in range(n)])\n",
    "    # M2 = np.array([[(moments[abs(i-j)])  for i in range(n)] for j in range(n)]) \n",
    "    # print(M1,M1@_I,M2,sep='\\n')\n",
    "    \n",
    "    ## C_mC_n = (C_{m+n} + C{|m-n|}) / 2\n",
    "    M = np.array([[(moments[i+j] + moments[abs(i-j)])  for i in range(n)] for j in range(n)])\n",
    "    \n",
    "\n",
    "    b = np.array([(moments[i+n] + moments[abs(i-n)])  for i in range(n)])\n",
    "    coef = np.linalg.solve(M, b)\n",
    "    new_coef = np.concatenate([-coef, [1]])\n",
    "    nodes = C(new_coef).roots() \n",
    "    V = np.array([C.basis(i)(nodes) for i in range(n)])\n",
    "    weights = np.linalg.solve(V , moments[:n])\n",
    "    return nodes,weights"
   ]
  },
  {
   "cell_type": "code",
   "execution_count": 29,
   "metadata": {},
   "outputs": [
    {
     "name": "stdout",
     "output_type": "stream",
     "text": [
      "[[ 2.          0.         -0.66666667 -0.         -0.13333333]\n",
      " [ 0.         -0.66666667 -0.         -0.13333333 -0.        ]\n",
      " [-0.66666667 -0.         -0.13333333 -0.         -0.05714286]\n",
      " [-0.         -0.13333333 -0.         -0.05714286 -0.        ]\n",
      " [-0.13333333 -0.         -0.05714286 -0.         -0.03174603]]\n",
      "[[-0.13333333  0.         -0.66666667  0.          2.        ]\n",
      " [ 0.         -0.13333333  0.         -0.66666667  0.        ]\n",
      " [-0.05714286  0.         -0.13333333  0.         -0.66666667]\n",
      " [ 0.         -0.05714286  0.         -0.13333333  0.        ]\n",
      " [-0.03174603  0.         -0.05714286  0.         -0.13333333]]\n",
      "[[ 2.          0.         -0.66666667 -0.         -0.13333333]\n",
      " [ 0.          2.          0.         -0.66666667 -0.        ]\n",
      " [-0.66666667  0.          2.          0.         -0.66666667]\n",
      " [-0.         -0.66666667  0.          2.          0.        ]\n",
      " [-0.13333333 -0.         -0.66666667  0.          2.        ]]\n"
     ]
    },
    {
     "data": {
      "text/plain": [
       "(1.1102230246251565e-15, 7.494005416219807e-16)"
      ]
     },
     "execution_count": 29,
     "metadata": {},
     "output_type": "execute_result"
    }
   ],
   "source": [
    "n = 5\n",
    "real_n , real_w = np.polynomial.legendre.leggauss(n)\n",
    "nodes , w  = Gaussian_1D_hankel(n)\n",
    "max(abs(real_n - nodes )), max(abs(real_w - w))"
   ]
  }
 ],
 "metadata": {
  "kernelspec": {
   "display_name": "Python 3",
   "language": "python",
   "name": "python3"
  },
  "language_info": {
   "codemirror_mode": {
    "name": "ipython",
    "version": 3
   },
   "file_extension": ".py",
   "mimetype": "text/x-python",
   "name": "python",
   "nbconvert_exporter": "python",
   "pygments_lexer": "ipython3",
   "version": "3.11.0"
  }
 },
 "nbformat": 4,
 "nbformat_minor": 2
}
