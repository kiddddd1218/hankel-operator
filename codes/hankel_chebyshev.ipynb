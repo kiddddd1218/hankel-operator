{
 "cells": [
  {
   "cell_type": "code",
   "execution_count": 1,
   "metadata": {},
   "outputs": [],
   "source": [
    "import numpy as np\n",
    "from numpy.polynomial import Polynomial as P\n",
    "from numpy.polynomial import chebyshev as c\n",
    "from numpy.polynomial import Chebyshev as C\n",
    "from numpy.polynomial import Legendre as L\n",
    "from math import factorial as fac"
   ]
  },
  {
   "cell_type": "code",
   "execution_count": null,
   "metadata": {},
   "outputs": [],
   "source": [
    "inte_p = lambda p,a,b: p.integ()(b) - p.integ()(a)\n",
    "def Gaussian_1D_hankel(n):\n",
    "    \n",
    "\n",
    "    # moments = np.array([(1**(r+1) - (-1)**(r+1)) / (r+1) for r in range(2 * n)])\n",
    "    # moments = np.array([inte_p(L.basis(r) , -1 , 1) for r in range(2 * n)])\n",
    "    # part_1 = lambda k: np.array([(-1)**(s + n) * fac(k) * 2 / (fac(s) * fac(k - s) * (s + n + 1))  for s in range(k)]).sum()\n",
    "    # part_2 = lambda m: np.array([(-2)**k * fac(m + k - 1) * part_1(k) / (fac(m - k) * (fac(2 * k))) for k in range(m)]).sum()\n",
    "    # b = np.array([part_2(m) for m in range(n)])\n",
    "\n",
    "    moments = np.array([inte_p(C.basis(r) , -1 , 1) for r in range(2 * n)])\n",
    "    ## C_mC_n = C_{m+n} + C{|m-n|}\n",
    "    M = np.array([[moments[i+j] + moments[abs(i-j)] for i in range(n)] for j in range(n)])\n",
    "    \n",
    "\n",
    "    b = np.array([moments[i+n] + moments[abs(i-n)] for i in range(n)])\n",
    "    coef = np.linalg.solve(M, b)\n",
    "    new_coef = c.cheb2poly(coef)\n",
    "    nodes = P(np.append(-new_coef, [0.0,1.0])).roots() # Add an extra zero since b[-1]=0\n",
    "    V = np.array([C.basis(i)(nodes) for i in range(n)])\n",
    "    weights = np.linalg.solve(V , moments[:n])\n",
    "    return nodes,weights"
   ]
  },
  {
   "cell_type": "code",
   "execution_count": 3,
   "metadata": {},
   "outputs": [
    {
     "name": "stdout",
     "output_type": "stream",
     "text": [
      "0.0\n"
     ]
    },
    {
     "data": {
      "text/plain": [
       "(array([-0.77459667,  0.        ,  0.77459667]),\n",
       " array([0.-0.77459667j, 0.+0.j        , 0.+0.77459667j]),\n",
       " array([0.55555556, 0.88888889, 0.55555556]),\n",
       " array([-0.55555556-0.j,  3.11111111+0.j, -0.55555556-0.j]))"
      ]
     },
     "execution_count": 3,
     "metadata": {},
     "output_type": "execute_result"
    }
   ],
   "source": [
    "n = 3\n",
    "real_n , real_w = np.polynomial.legendre.leggauss(n)\n",
    "nodes , w  = Gaussian_1D_hankel(n)\n",
    "real_n , nodes , real_w , w"
   ]
  }
 ],
 "metadata": {
  "kernelspec": {
   "display_name": "Python 3",
   "language": "python",
   "name": "python3"
  },
  "language_info": {
   "codemirror_mode": {
    "name": "ipython",
    "version": 3
   },
   "file_extension": ".py",
   "mimetype": "text/x-python",
   "name": "python",
   "nbconvert_exporter": "python",
   "pygments_lexer": "ipython3",
   "version": "3.11.0"
  }
 },
 "nbformat": 4,
 "nbformat_minor": 2
}
